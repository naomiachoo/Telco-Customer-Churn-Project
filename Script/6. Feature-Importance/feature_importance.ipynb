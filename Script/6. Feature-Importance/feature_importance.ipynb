{
  "nbformat": 4,
  "nbformat_minor": 0,
  "metadata": {
    "colab": {
      "provenance": []
    },
    "kernelspec": {
      "name": "python3",
      "display_name": "Python 3"
    },
    "language_info": {
      "name": "python"
    }
  },
  "cells": [
    {
      "cell_type": "markdown",
      "source": [
        "# Feature Importance"
      ],
      "metadata": {
        "id": "UoMJXGOzMUeT"
      }
    },
    {
      "cell_type": "code",
      "source": [
        "# function that computes the mutual infomation score between a categorical serie and the column Churn\n",
        "def compute_mutual_information(categorical_serie):\n",
        "    return mutual_info_score(categorical_serie, telco_data.Churn)\n",
        "\n",
        "# select categorial variables excluding the response variable \n",
        "categorical_variables = telco_data.select_dtypes(include=object).drop('Churn', axis=1)\n",
        "\n",
        "# compute the mutual information score between each categorical variable and the target\n",
        "feature_importance = categorical_variables.apply(compute_mutual_information).sort_values(ascending=False)\n",
        "\n",
        "# visualize feature importance\n",
        "print(feature_importance)"
      ],
      "metadata": {
        "id": "9Uy1wqAZMXtC",
        "outputId": "bdc55343-45c7-4d2f-f6a6-4a0e4107a574",
        "colab": {
          "base_uri": "https://localhost:8080/"
        }
      },
      "execution_count": null,
      "outputs": [
        {
          "output_type": "stream",
          "name": "stdout",
          "text": [
            "PaymentMethod   4.44%\n",
            "gender          0.00%\n",
            "dtype: float64\n"
          ]
        }
      ]
    },
    {
      "cell_type": "markdown",
      "source": [
        "Menggunakan Mutual Information selain membantu dalam memahami data, kita juga dapat mengidentifikasi variabel mana yang mempengaruhi target variabel yang ada pada data. \n",
        "\n",
        "Score yang dimiliki oleh variabel PaymentMethod dan gender, apabila semakin mendekati 0 maka dapat disimpulkan bahwa variabel tersebut tidak mempengaruhi variabel target.\n",
        "\n",
        "Oleh sebab itu kita dapat menyimpulkan bahwa variabel PaymentMethod yang memiliki score 4,45% mempengaruhi hasil pada variabel target."
      ],
      "metadata": {
        "id": "bNLQ3KBJYSl8"
      }
    }
  ]
}